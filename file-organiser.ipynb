{
 "cells": [
  {
   "cell_type": "code",
   "execution_count": 7,
   "id": "178065fe-1e45-4455-8909-bdb9ba2f501b",
   "metadata": {},
   "outputs": [],
   "source": [
    "import os\n",
    "import shutil\n",
    "TARGET_DIR =r\"C:\\Users\\Varnika\\OneDrive\\Desktop\""
   ]
  },
  {
   "cell_type": "code",
   "execution_count": 8,
   "id": "eab3dec1-75e9-4c9d-9de4-2e8917085ec4",
   "metadata": {},
   "outputs": [],
   "source": [
    "FILE_TYPES = {\n",
    "    \"Images\": [\".jpg\", \".jpeg\", \".png\", \".gif\", \".bmp\", \".svg\"],\n",
    "    \"Documents\": [\".pdf\", \".docx\", \".doc\", \".txt\", \".pptx\", \".xlsx\", \".xls\"],\n",
    "    \"Videos\": [\".mp4\", \".mov\", \".avi\", \".mkv\"],\n",
    "    \"Audio\": [\".mp3\", \".wav\", \".aac\", \".flac\"]}"
   ]
  },
  {
   "cell_type": "code",
   "execution_count": 9,
   "id": "4d9ef9b3-a647-4c3b-89b6-0606b6140c07",
   "metadata": {},
   "outputs": [],
   "source": [
    "def create_folder(folder_name):\n",
    "    folder_path = os.path.join(TARGET_DIR, folder_name)\n",
    "    os.makedirs(folder_path, exist_ok=True)\n",
    "    return folder_path"
   ]
  },
  {
   "cell_type": "code",
   "execution_count": 10,
   "id": "eeb49c84-5377-4e46-bfd7-07afa207165a",
   "metadata": {},
   "outputs": [],
   "source": [
    "def get_category(extension):\n",
    "    for category, extensions in FILE_TYPES.items():\n",
    "        if extension.lower() in extensions:\n",
    "            return category\n",
    "    return \"Others\""
   ]
  },
  {
   "cell_type": "code",
   "execution_count": 11,
   "id": "9360f927-8630-4131-8704-52d577a1dc62",
   "metadata": {},
   "outputs": [],
   "source": [
    "def organize_files():\n",
    "    for filename in os.listdir(TARGET_DIR):\n",
    "        file_path = os.path.join(TARGET_DIR, filename)\n",
    "\n",
    "        if os.path.isfile(file_path):\n",
    "            ext = os.path.splitext(filename)[1]\n",
    "            category = get_category(ext)\n",
    "            category_folder = create_folder(category)\n",
    "\n",
    "            try:\n",
    "                shutil.move(file_path, os.path.join(category_folder, filename))\n",
    "                print(f\"Moved: {filename} → {category}\")\n",
    "            except Exception as e:\n",
    "                print(f\"Failed to move {filename}: {e}\")"
   ]
  },
  {
   "cell_type": "code",
   "execution_count": 12,
   "id": "6869ea75-5c39-4fc9-a304-df7274f240bc",
   "metadata": {},
   "outputs": [
    {
     "name": "stdout",
     "output_type": "stream",
     "text": [
      "Moved: data science project.doc → Documents\n",
      "Moved: desktop.ini → Others\n",
      "Moved: janamashtmi.docx → Documents\n",
      "Moved: janamashtmi.pdf → Documents\n",
      "Moved: janamashtmi.rtf → Others\n",
      "Moved: rakhi collection.docx → Documents\n",
      "Moved: rakhi collection.pdf → Documents\n",
      "Moved: VARNU - DL.png → Images\n"
     ]
    }
   ],
   "source": [
    "if __name__ == \"__main__\":\n",
    "    organize_files()"
   ]
  },
  {
   "cell_type": "code",
   "execution_count": null,
   "id": "960b20ef-ead6-46ca-9595-e494de1c5946",
   "metadata": {},
   "outputs": [],
   "source": []
  }
 ],
 "metadata": {
  "kernelspec": {
   "display_name": "Python 3 (ipykernel)",
   "language": "python",
   "name": "python3"
  },
  "language_info": {
   "codemirror_mode": {
    "name": "ipython",
    "version": 3
   },
   "file_extension": ".py",
   "mimetype": "text/x-python",
   "name": "python",
   "nbconvert_exporter": "python",
   "pygments_lexer": "ipython3",
   "version": "3.13.5"
  }
 },
 "nbformat": 4,
 "nbformat_minor": 5
}
